{
 "cells": [
  {
   "cell_type": "code",
   "execution_count": 13,
   "metadata": {
    "scrolled": true
   },
   "outputs": [
    {
     "ename": "ModuleNotFoundError",
     "evalue": "No module named 'keras'",
     "output_type": "error",
     "traceback": [
      "\u001b[0;31m---------------------------------------------------------------------------\u001b[0m",
      "\u001b[0;31mModuleNotFoundError\u001b[0m                       Traceback (most recent call last)",
      "\u001b[0;32m<ipython-input-13-a48732c3691a>\u001b[0m in \u001b[0;36m<module>\u001b[0;34m\u001b[0m\n\u001b[1;32m      1\u001b[0m \u001b[0;32mfrom\u001b[0m \u001b[0mlibs\u001b[0m\u001b[0;34m.\u001b[0m\u001b[0mmy\u001b[0m\u001b[0;34m.\u001b[0m\u001b[0mdataloader\u001b[0m \u001b[0;32mimport\u001b[0m \u001b[0mDataLoader\u001b[0m\u001b[0;34m\u001b[0m\u001b[0;34m\u001b[0m\u001b[0m\n\u001b[0;32m----> 2\u001b[0;31m \u001b[0;32mfrom\u001b[0m \u001b[0mlibs\u001b[0m\u001b[0;34m.\u001b[0m\u001b[0mdeeplab\u001b[0m\u001b[0;34m.\u001b[0m\u001b[0mmodel\u001b[0m \u001b[0;32mimport\u001b[0m \u001b[0mDeeplabv3\u001b[0m\u001b[0;34m,\u001b[0m \u001b[0mpreprocess_input\u001b[0m\u001b[0;34m\u001b[0m\u001b[0;34m\u001b[0m\u001b[0m\n\u001b[0m\u001b[1;32m      3\u001b[0m \u001b[0;32mimport\u001b[0m \u001b[0mcv2\u001b[0m\u001b[0;34m\u001b[0m\u001b[0;34m\u001b[0m\u001b[0m\n",
      "\u001b[0;32m~/work/MothionL/libs/deeplab/model.py\u001b[0m in \u001b[0;36m<module>\u001b[0;34m\u001b[0m\n\u001b[1;32m     28\u001b[0m \u001b[0;32mimport\u001b[0m \u001b[0mnumpy\u001b[0m \u001b[0;32mas\u001b[0m \u001b[0mnp\u001b[0m\u001b[0;34m\u001b[0m\u001b[0;34m\u001b[0m\u001b[0m\n\u001b[1;32m     29\u001b[0m \u001b[0;34m\u001b[0m\u001b[0m\n\u001b[0;32m---> 30\u001b[0;31m \u001b[0;32mfrom\u001b[0m \u001b[0mkeras\u001b[0m\u001b[0;34m.\u001b[0m\u001b[0mmodels\u001b[0m \u001b[0;32mimport\u001b[0m \u001b[0mModel\u001b[0m\u001b[0;34m\u001b[0m\u001b[0;34m\u001b[0m\u001b[0m\n\u001b[0m\u001b[1;32m     31\u001b[0m \u001b[0;32mfrom\u001b[0m \u001b[0mkeras\u001b[0m \u001b[0;32mimport\u001b[0m \u001b[0mlayers\u001b[0m\u001b[0;34m\u001b[0m\u001b[0;34m\u001b[0m\u001b[0m\n\u001b[1;32m     32\u001b[0m \u001b[0;32mfrom\u001b[0m \u001b[0mkeras\u001b[0m\u001b[0;34m.\u001b[0m\u001b[0mlayers\u001b[0m \u001b[0;32mimport\u001b[0m \u001b[0mInput\u001b[0m\u001b[0;34m\u001b[0m\u001b[0;34m\u001b[0m\u001b[0m\n",
      "\u001b[0;31mModuleNotFoundError\u001b[0m: No module named 'keras'"
     ]
    }
   ],
   "source": [
    "from libs.my.dataloader import DataLoader\n",
    "from libs.deeplab.model import Deeplabv3, preprocess_input\n",
    "import cv2"
   ]
  },
  {
   "cell_type": "code",
   "execution_count": null,
   "metadata": {},
   "outputs": [],
   "source": [
    "python -c \"import tensorflow as tf; tf.enable_eager_execution(); print(tf.reduce_sum(tf.random_normal([1000, 1000])))\""
   ]
  },
  {
   "cell_type": "code",
   "execution_count": 2,
   "metadata": {},
   "outputs": [],
   "source": [
    "video_path = './data/' + '2.mp4'\n",
    "dataloader = DataLoader(video_path, batch_size = 4)"
   ]
  },
  {
   "cell_type": "code",
   "execution_count": 3,
   "metadata": {
    "scrolled": true
   },
   "outputs": [],
   "source": [
    "ret, batch = dataloader.__get_batch__()"
   ]
  },
  {
   "cell_type": "code",
   "execution_count": 4,
   "metadata": {
    "scrolled": true
   },
   "outputs": [
    {
     "data": {
      "text/plain": [
       "409"
      ]
     },
     "execution_count": 4,
     "metadata": {},
     "output_type": "execute_result"
    }
   ],
   "source": [
    "len(dataloader)"
   ]
  },
  {
   "cell_type": "code",
   "execution_count": 5,
   "metadata": {
    "scrolled": false
   },
   "outputs": [
    {
     "data": {
      "text/plain": [
       "(4, 1080, 1920, 3)"
      ]
     },
     "execution_count": 5,
     "metadata": {},
     "output_type": "execute_result"
    }
   ],
   "source": [
    "batch.shape"
   ]
  },
  {
   "cell_type": "code",
   "execution_count": 6,
   "metadata": {},
   "outputs": [],
   "source": [
    "from libs.ssd.vision.ssd.mobilenetv1_ssd import create_mobilenetv1_ssd, create_mobilenetv1_ssd_predictor"
   ]
  },
  {
   "cell_type": "code",
   "execution_count": 7,
   "metadata": {},
   "outputs": [],
   "source": [
    "model_path = './weights/mobilenet-v1-ssd-mp-0_675.pth'"
   ]
  },
  {
   "cell_type": "code",
   "execution_count": 8,
   "metadata": {
    "scrolled": true
   },
   "outputs": [],
   "source": [
    "net = create_mobilenetv1_ssd(21, is_test=True)\n",
    "net.load(model_path)\n",
    "predictor = create_mobilenetv1_ssd_predictor(net, candidate_size=200)"
   ]
  },
  {
   "cell_type": "code",
   "execution_count": 9,
   "metadata": {},
   "outputs": [],
   "source": [
    "def calculate_boxes(boxes):\n",
    "    # y1, x1, y2, x2\n",
    "    # slide calculate\n",
    "    if boxes[0] > 1080-boxes[2]:\n",
    "        slide = boxes[0]\n",
    "    else:\n",
    "        slide = 1080-boxes[2]\n",
    "    \n",
    "    center = ((boxes[2]- boxes[0])/2 + boxes[0], (boxes[3]- boxes[1])/2 + boxes[1])\n",
    "    return center, slide\n",
    "\n",
    "def cut_tile(frame, center, subsize):\n",
    "    slide = subsize / 2\n",
    "    tile = frame[center[0]-slide:center[0]+slide, center[1]-slide:center[1]+slide]\n",
    "    \n",
    "    return tile\n",
    "\n",
    "def batch_to_tiles(batch, boxes, batch_n, center_upper, center_bottom, subsize=512):\n",
    "    upper_tiles = [] \n",
    "    bottom_tiles = []\n",
    "    \n",
    "    for i in range(0, batch.shape[0]):\n",
    "        frame_n = i + batch.shape[0] * batch_n\n",
    "        \n",
    "        if frame_n % 30 == 0: \n",
    "            center, slide = calculate_boxes(boxes[i][0])\n",
    "            center_upper = (center[0]-slide, center[1])\n",
    "            center_bottom = (center[0]+slide, center[1])\n",
    "        \n",
    "            if center_upper - subsize < 0:\n",
    "                slide_up = center_upper - subsize\n",
    "                center_upper[0] -= slide_up\n",
    "            \n",
    "            if center_bottom + subsize > 1080:\n",
    "                slide_up = 1080 - (center_bottom + subsize)\n",
    "                center_bottom[0] += slide_up\n",
    "        \n",
    "        #upper_tiles.append(cut_tile(batch[i], center_upper, subsize))\n",
    "        #bottom_tiles.append(cut_tile(batch[i], center_bottom, subsize))\n",
    "        if i == 0:\n",
    "            upper_batch = cut_tile(batch[i], center_upper, subsize)[None]\n",
    "            bottom_batch = cut_tile(batch[i], center_bottom, subsize)[None]\n",
    "        else:\n",
    "            upper_batch = np.concatenate((upper_batch, cut_tile(batch[i], center_upper, subsize)[None]) , axis=0)\n",
    "            bottom_batch = np.concatenate((bottom_batch, cut_tile(batch[i], center_bottom, subsize)[None]) , axis=0)\n",
    "            \n",
    "        \n",
    "    return upper_batch, bottom_batch, center_upper, center_bottom"
   ]
  },
  {
   "cell_type": "code",
   "execution_count": 10,
   "metadata": {},
   "outputs": [],
   "source": [
    "class Predictor:\n",
    "    def __init__(self, detector, net):\n",
    "        self.detector = detector\n",
    "        self.net = net\n",
    "        #self.dataloader = None\n",
    "\n",
    "    def predict(self, dataloader):\n",
    "        \"\"\"\n",
    "            1. Получить батч\n",
    "                1.1 Препроцессинг батч\n",
    "            2. Задетектить боксы в батче\n",
    "                2.1 Препроцессинг батч\n",
    "            3. Взять маску\n",
    "                3.1 Постпроцессинг батч\n",
    "        \"\"\"\n",
    "        \n",
    "        preds = []\n",
    "        ret = True\n",
    "        i = 0\n",
    "        center_upper, center_bottom = None, None\n",
    "        while ret:\n",
    "            ret, batch = dataloader.__get_batch__()\n",
    "            # boxes, labels, probs = self.detector.detect_batch(batch)\n",
    "            boxes, labels, probs = self.__detect_batch(batch)\n",
    "            upper_batch, bottom_batch, center_upper, center_bottom \\\n",
    "            = batch_to_tiles(batch, boxes, i, center_upper, center_bottom)\n",
    "            \n",
    "            upper_batch = preprocess_input(upper_batch)\n",
    "            bottom_batch = preprocess_input(bottom_batch)\n",
    "            \n",
    "            upper_preds = self.net.predict(upper_batch)\n",
    "            bottom_preds = self.net.predict(bottom_batch)\n",
    "            \n",
    "            i += 1\n",
    "        return upper_preds, upper_preds\n",
    "            \n",
    "    def __detect_batch(self, batch):\n",
    "        boxes_ = []\n",
    "        labels_ = []\n",
    "        probs_ = []\n",
    "        \n",
    "        for i in range(0, batch.shape[0]):\n",
    "            print(i)\n",
    "            image = cv2.cvtColor(batch[i], cv2.COLOR_BGR2RGB)\n",
    "            boxes, labels, probs = self.detector.predict(image, 10, 0.4)\n",
    "            boxes_.append(boxes)\n",
    "            labels_.append(labels)\n",
    "            probs_.append(probs)\n",
    "            \n",
    "        return boxes_, labels_, probs_        "
   ]
  },
  {
   "cell_type": "code",
   "execution_count": 11,
   "metadata": {},
   "outputs": [],
   "source": [
    "model = Predictor(predictor, None)"
   ]
  },
  {
   "cell_type": "code",
   "execution_count": 12,
   "metadata": {},
   "outputs": [
    {
     "data": {
      "text/plain": [
       "(4, 1080, 1920, 3)"
      ]
     },
     "execution_count": 12,
     "metadata": {},
     "output_type": "execute_result"
    }
   ],
   "source": [
    "batch.shape"
   ]
  },
  {
   "cell_type": "code",
   "execution_count": null,
   "metadata": {},
   "outputs": [],
   "source": []
  }
 ],
 "metadata": {
  "kernelspec": {
   "display_name": "Python 3",
   "language": "python",
   "name": "python3"
  },
  "language_info": {
   "codemirror_mode": {
    "name": "ipython",
    "version": 3
   },
   "file_extension": ".py",
   "mimetype": "text/x-python",
   "name": "python",
   "nbconvert_exporter": "python",
   "pygments_lexer": "ipython3",
   "version": "3.6.8"
  }
 },
 "nbformat": 4,
 "nbformat_minor": 2
}
